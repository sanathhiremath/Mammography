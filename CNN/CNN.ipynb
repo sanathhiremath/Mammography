{
 "cells": [
  {
   "cell_type": "code",
   "execution_count": 1,
   "metadata": {},
   "outputs": [
    {
     "name": "stderr",
     "output_type": "stream",
     "text": [
      "Using TensorFlow backend.\n"
     ]
    }
   ],
   "source": [
    "# Part 1 - Building the CNN\n",
    "\n",
    "# Importing the Keras libraries and packages\n",
    "from keras.models import Sequential\n",
    "from keras.layers import Conv2D\n",
    "from keras.layers import MaxPooling2D\n",
    "from keras.layers import Flatten\n",
    "from keras.layers import Dense\n"
   ]
  },
  {
   "cell_type": "code",
   "execution_count": 2,
   "metadata": {},
   "outputs": [],
   "source": [
    "# Initialising the CNN\n",
    "classifier = Sequential()\n",
    "\n",
    "# Step 1 - Convolution\n",
    "classifier.add(Conv2D(32, (3, 3), input_shape = (64, 64, 3), activation = 'relu'))\n",
    "\n",
    "# Step 2 - Pooling\n",
    "classifier.add(MaxPooling2D(pool_size = (2, 2)))\n",
    "\n",
    "# Adding a second convolutional layer\n",
    "classifier.add(Conv2D(32, (3, 3), activation = 'relu'))\n",
    "classifier.add(MaxPooling2D(pool_size = (2, 2)))\n",
    "\n",
    "\n",
    "\n",
    "# Step 3 - Flattening\n",
    "classifier.add(Flatten())\n",
    "\n",
    "# Step 4 - Full connection\n",
    "classifier.add(Dense(units = 128, activation = 'relu'))\n",
    "\n",
    "classifier.add(Dense(units = 1, activation = 'sigmoid'))"
   ]
  },
  {
   "cell_type": "code",
   "execution_count": 3,
   "metadata": {},
   "outputs": [],
   "source": [
    "# Compiling the CNN\n",
    "classifier.compile(optimizer = 'adam', loss = 'binary_crossentropy', metrics = ['accuracy'])"
   ]
  },
  {
   "cell_type": "code",
   "execution_count": 4,
   "metadata": {},
   "outputs": [
    {
     "name": "stdout",
     "output_type": "stream",
     "text": [
      "Found 256 images belonging to 2 classes.\n",
      "Found 63 images belonging to 2 classes.\n",
      "Epoch 1/5\n",
      "100/100 [==============================] - 105s 1s/step - loss: 0.6626 - accuracy: 0.6378 - val_loss: 0.6664 - val_accuracy: 0.6349\n",
      "Epoch 2/5\n",
      "100/100 [==============================] - 99s 992ms/step - loss: 0.6487 - accuracy: 0.6403 - val_loss: 0.6136 - val_accuracy: 0.6349\n",
      "Epoch 3/5\n",
      "100/100 [==============================] - 107s 1s/step - loss: 0.6372 - accuracy: 0.6425 - val_loss: 0.5835 - val_accuracy: 0.6349\n",
      "Epoch 4/5\n",
      "100/100 [==============================] - 110s 1s/step - loss: 0.6202 - accuracy: 0.6541 - val_loss: 0.7831 - val_accuracy: 0.6190\n",
      "Epoch 5/5\n",
      "100/100 [==============================] - 100s 1s/step - loss: 0.5945 - accuracy: 0.6787 - val_loss: 0.7677 - val_accuracy: 0.6190\n"
     ]
    },
    {
     "data": {
      "text/plain": [
       "<keras.callbacks.callbacks.History at 0x2044351a308>"
      ]
     },
     "execution_count": 4,
     "metadata": {},
     "output_type": "execute_result"
    }
   ],
   "source": [
    "\n",
    "# Part 2 - Fitting the CNN to the images\n",
    "\n",
    "from keras.preprocessing.image import ImageDataGenerator\n",
    "\n",
    "train_datagen = ImageDataGenerator(rescale = 1./255,\n",
    "                                   shear_range = 0.2,\n",
    "                                   zoom_range = 0.2,\n",
    "                                   horizontal_flip = True)\n",
    "\n",
    "test_datagen = ImageDataGenerator(rescale = 1./255)\n",
    "\n",
    "training_set = train_datagen.flow_from_directory('train',\n",
    "                                                 target_size = (64, 64),\n",
    "                                                 batch_size = 32,\n",
    "                                                 class_mode = 'binary')\n",
    "\n",
    "test_set = test_datagen.flow_from_directory('test',\n",
    "                                            target_size = (64, 64),\n",
    "                                            batch_size = 32,\n",
    "                                            class_mode = 'binary')\n",
    "\n",
    "classifier.fit_generator(training_set,\n",
    "                         steps_per_epoch = 100,\n",
    "                         epochs = 5,\n",
    "                         validation_data = test_set,\n",
    "                         validation_steps = 10)\n",
    "\n"
   ]
  },
  {
   "cell_type": "code",
   "execution_count": 12,
   "metadata": {},
   "outputs": [],
   "source": [
    "model_json = classifier.to_json()\n",
    "with open(\"model.json\", \"w\") as json_file:\n",
    "    json_file.write(model_json)\n",
    "classifier.save_weights(\"model.h5\")"
   ]
  },
  {
   "cell_type": "code",
   "execution_count": 21,
   "metadata": {},
   "outputs": [
    {
     "name": "stdout",
     "output_type": "stream",
     "text": [
      "normal\n"
     ]
    }
   ],
   "source": [
    "# Part 3 - Making new predictions\n",
    "\n",
    "import numpy as np\n",
    "from keras.preprocessing import image\n",
    "test_image = image.load_img('AB1.jpg', target_size = (64, 64))\n",
    "test_image = image.img_to_array(test_image)\n",
    "test_image = np.expand_dims(test_image, axis = 0)\n",
    "result = classifier.predict(test_image)\n",
    "training_set.class_indices\n",
    "if result[0][0] == 0:\n",
    "    prediction = 'abnormal'\n",
    "    print(prediction)\n",
    "else:\n",
    "    prediction = 'normal'\n",
    "    print(prediction)"
   ]
  },
  {
   "cell_type": "code",
   "execution_count": 29,
   "metadata": {},
   "outputs": [
    {
     "name": "stdout",
     "output_type": "stream",
     "text": [
      "normal\n"
     ]
    }
   ],
   "source": [
    "import numpy as np\n",
    "from keras.preprocessing import image\n",
    "test_image = image.load_img('mdb021.jpg', target_size = (64, 64))\n",
    "test_image = image.img_to_array(test_image)\n",
    "test_image = np.expand_dims(test_image, axis = 0)\n",
    "result = classifier.predict(test_image)\n",
    "training_set.class_indices\n",
    "if result[0][0] == 0:\n",
    "    prediction = 'abnormal'\n",
    "    print(prediction)\n",
    "else:\n",
    "    prediction = 'normal'\n",
    "    print(prediction)"
   ]
  },
  {
   "cell_type": "code",
   "execution_count": 33,
   "metadata": {},
   "outputs": [
    {
     "name": "stdout",
     "output_type": "stream",
     "text": [
      "test/abnormal/mdb010.jpg\n",
      "abnormal\n",
      "\n",
      "test/abnormal/mdb012.jpg\n",
      "normal\n",
      "\n",
      "test/abnormal/mdb013.jpg\n",
      "abnormal\n",
      "\n",
      "test/abnormal/mdb015.jpg\n",
      "normal\n",
      "\n",
      "test/abnormal/mdb017.jpg\n",
      "normal\n",
      "\n",
      "test/abnormal/mdb019.jpg\n",
      "abnormal\n",
      "\n",
      "test/abnormal/mdb021.jpg\n",
      "abnormal\n",
      "\n",
      "test/abnormal/mdb023.jpg\n",
      "abnormal\n",
      "\n",
      "test/abnormal/mdb025.jpg\n",
      "normal\n",
      "\n",
      "test/abnormal/mdb028.jpg\n",
      "normal\n",
      "\n",
      "test/abnormal/mdb030.jpg\n",
      "normal\n",
      "\n",
      "test/abnormal/mdb032.jpg\n",
      "normal\n",
      "\n",
      "test/abnormal/mdb058.jpg\n",
      "abnormal\n",
      "\n",
      "test/abnormal/mdb059.jpg\n",
      "normal\n",
      "\n",
      "test/abnormal/mdb063.jpg\n",
      "normal\n",
      "\n",
      "test/abnormal/mdb069.jpg\n",
      "abnormal\n",
      "\n",
      "test/abnormal/mdb072.jpg\n",
      "abnormal\n",
      "\n",
      "test/abnormal/mdb075.jpg\n",
      "normal\n",
      "\n",
      "test/abnormal/mdb080.jpg\n",
      "abnormal\n",
      "\n",
      "test/abnormal/mdb081.jpg\n",
      "abnormal\n",
      "\n",
      "Total Images:- 20; Normal:- 10; Abnormal:- 10\n"
     ]
    }
   ],
   "source": [
    "count = 0\n",
    "fileNO =10\n",
    "normalCount=0\n",
    "AbnormalCount=0\n",
    "totalImg=0\n",
    "filePath ='test/abnormal/mdb0'\n",
    "while (count == 0): \n",
    "    fileNam = filePath +str(fileNO)+ '.jpg'\n",
    "    # print()\n",
    "    try:\n",
    "        fileNO=fileNO+1\n",
    "        if(fileNO==300):\n",
    "            count =1\n",
    "        img_pred=image.load_img(fileNam,target_size=(64,64))\n",
    "        img_pred=image.img_to_array(img_pred)\n",
    "        img_pred=np.expand_dims(img_pred, axis=0)\n",
    "        rslt=classifier.predict(img_pred)\n",
    "        \n",
    "        totalImg=totalImg+1\n",
    "        print(fileNam)\n",
    "        # print(rslt.round())\n",
    "        if rslt[0][0]==1:       \n",
    "            normalCount=normalCount+1\n",
    "            prediction=\"normal\"\n",
    "            print(prediction)\n",
    "        else:       \n",
    "            AbnormalCount=AbnormalCount+1\n",
    "            prediction=\"abnormal\"\n",
    "            print(prediction)\n",
    "    \n",
    "        print()\n",
    "      \n",
    "    except:\n",
    "        fileNam=fileNam\n",
    "        \n",
    "\n",
    "print(\"Total Images:- \" +str(totalImg) +\"; Normal:- \"+str(normalCount)+\"; Abnormal:- \"+str(AbnormalCount))"
   ]
  },
  {
   "cell_type": "code",
   "execution_count": null,
   "metadata": {},
   "outputs": [],
   "source": []
  },
  {
   "cell_type": "code",
   "execution_count": 14,
   "metadata": {},
   "outputs": [],
   "source": [
    "# load and evaluate a saved model\n",
    "from numpy import loadtxt\n",
    "from keras.models import load_model, model_from_json\n",
    "\n",
    "json_file = open('model.json', 'r')\n",
    "loaded_model_json = json_file.read()\n",
    "json_file.close()\n",
    "loaded_model = model_from_json(loaded_model_json)\n",
    "# load weights into new model\n",
    "loaded_model.load_weights(\"model.h5\")\n",
    "\n",
    "# load model\n",
    "#model = load_model(\"model.h5\")\n",
    "# summarize model.\n",
    "#model.summary()"
   ]
  },
  {
   "cell_type": "code",
   "execution_count": 18,
   "metadata": {},
   "outputs": [
    {
     "name": "stdout",
     "output_type": "stream",
     "text": [
      "normal\n"
     ]
    }
   ],
   "source": [
    "import numpy as np\n",
    "from keras.preprocessing import image\n",
    "test_image = image.load_img('NN1.jpg', target_size = (64, 64))\n",
    "test_image = image.img_to_array(test_image)\n",
    "test_image = np.expand_dims(test_image, axis = 0)\n",
    "result = loaded_model.predict(test_image)\n",
    "training_set.class_indices\n",
    "if result[0][0] == 0:\n",
    "    prediction = 'abnormal'\n",
    "    print(prediction)\n",
    "else:\n",
    "    prediction = 'normal'\n",
    "    print(prediction)"
   ]
  },
  {
   "cell_type": "code",
   "execution_count": null,
   "metadata": {},
   "outputs": [],
   "source": []
  }
 ],
 "metadata": {
  "kernelspec": {
   "display_name": "Python 3",
   "language": "python",
   "name": "python3"
  },
  "language_info": {
   "codemirror_mode": {
    "name": "ipython",
    "version": 3
   },
   "file_extension": ".py",
   "mimetype": "text/x-python",
   "name": "python",
   "nbconvert_exporter": "python",
   "pygments_lexer": "ipython3",
   "version": "3.7.6"
  }
 },
 "nbformat": 4,
 "nbformat_minor": 2
}
